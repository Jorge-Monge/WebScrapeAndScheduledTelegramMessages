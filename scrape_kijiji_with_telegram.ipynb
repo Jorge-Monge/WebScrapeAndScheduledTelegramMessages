{
 "cells": [
  {
   "attachments": {},
   "cell_type": "markdown",
   "id": "0d8db391",
   "metadata": {},
   "source": [
    "#### (April 2023 - It works just fine!)\n",
    "\n",
    "#### Do an HTTP GET request to the Kijiji site, and store the response ✅\n",
    "\n",
    "#### Parse the response and store a list of objects for which the conditions are met. ✅\n",
    "\n",
    "#### Send a Telegram message if one or more valid ads have been found. ✅\n",
    "\n",
    "#### TODO: Handle pagination in the response\n",
    "\n",
    "#### TODO: Handle non-ASCII characters in the response"
   ]
  },
  {
   "cell_type": "code",
   "execution_count": null,
   "id": "6f08533a",
   "metadata": {},
   "outputs": [],
   "source": [
    "import os\n",
    "import urllib.request\n",
    "from bs4 import BeautifulSoup"
   ]
  },
  {
   "cell_type": "code",
   "execution_count": 55,
   "id": "e0e3807f",
   "metadata": {},
   "outputs": [
    {
     "name": "stdout",
     "output_type": "stream",
     "text": [
      "https://www.kijiji.ca/b-dartmouth/canoe/k0l1700109?radius=100.0\n"
     ]
    }
   ],
   "source": [
    "## Define/retrieve constants\n",
    "\n",
    "# Telegram\n",
    "TELEGRAM_TOKEN = os.environ.get('TELEGRAM_TOKEN', '')\n",
    "TELEGRAM_CHAT_ID = os.environ.get('CHAT_ID', '')\n",
    "TELEGRAM_URL = f\"https://api.telegram.org/bot{TELEGRAM_TOKEN}/sendMessage?chat_id={TELEGRAM_CHAT_ID}\"\n",
    "\n",
    "# Kijiji search\n",
    "SEARCH_WORD = \"canoe\"\n",
    "SEARCH_RADIUS_KM = 100.0 # if few results it will redirect to URL corresponding to 150 km\n",
    "MAX_PRICE = 300\n",
    "URL = f\"https://www.kijiji.ca/b-dartmouth/{SEARCH_WORD.lower()}/k0l1700109?\"\\\n",
    "    f\"radius={SEARCH_RADIUS_KM}\"\n",
    "    #f\"rb=true&\"\\\n",
    "    #f\"ll=51.044733%2C-114.071883&\"\\\n",
    "    #f\"address=Calgary%2C+AB&\"\\\n",
    "    # Removing this parameter seems to force the search to the specified radius\n",
    "    # (otherwise it seems that Kijiji, if few results are found, widens the search to 150 km)\n",
    "    #f\"dc=true\" \n",
    "\n",
    "# pagination\n",
    "#https://www.kijiji.ca/b-cars-trucks/calgary/ford-focus/page-2/k0c174l1700199?radius=150.0&address=Calgary%2C+AB&ll=51.044733,-114.071883&rb=true\n",
    "print(URL)"
   ]
  },
  {
   "cell_type": "code",
   "execution_count": 44,
   "id": "e7a94dcb",
   "metadata": {},
   "outputs": [
    {
     "name": "stdout",
     "output_type": "stream",
     "text": [
      "Status OK\n"
     ]
    }
   ],
   "source": [
    "## Do an HTTP GET request to the Kijiji site,\n",
    "## and store the response\n",
    "\n",
    "with urllib.request.urlopen(URL) as response:\n",
    "   \n",
    "    if response.getcode() == 200: \n",
    "        print (\"Status OK\")\n",
    "        html_doc= response.read()\n",
    "        \n",
    "soup = BeautifulSoup(html_doc, 'html.parser')"
   ]
  },
  {
   "cell_type": "code",
   "execution_count": 48,
   "id": "9c1e5de5",
   "metadata": {},
   "outputs": [],
   "source": [
    "# \"ul\" element containing the results\n",
    "result_list = soup.find(\"ul\", attrs = {\"data-testid\": \"srp-search-list\"})\n",
    "# Each of the \"li\" children\n",
    "resultsArray = result_list.find_all(\"li\")\n",
    "\n",
    "selected_ads = []\n",
    "\n",
    "for elem in resultsArray:\n",
    "    \n",
    "    ad_title = elem.find(\"h3\", attrs = {\"data-testid\": \"listing-title\"})\n",
    "    anchor_elem = ad_title.find(\"a\")\n",
    "    ad_title_text = ad_title.get_text().strip().replace(\" \", \"%20\")\n",
    "    \n",
    "    if \"wanted\" in ad_title_text.lower():\n",
    "        print (\"Skipping a WANTED ad:\", ad_title_text)\n",
    "        continue\n",
    "    ad_link = f\"https://www.kijiji.ca{anchor_elem.get('href')}\"\n",
    "    \n",
    "    try:\n",
    "        ad_price = float(elem.find(\"p\", attrs = {\"data-testid\": \"listing-price\"}).get_text().strip().replace(\"$\", \"\").replace(\",\", \"\"))\n",
    "        ad_description = elem.find(\"p\", attrs = {\"data-testid\": \"listing-description\"}).get_text().strip().replace(\" \", \"%20\")\n",
    "        if (ad_price <= MAX_PRICE):\n",
    "            selected_ads.append({\"title\": ad_title_text, \"ad_link\": ad_link, \"ad_price\": ad_price, \"ad_description\": ad_description})\n",
    "    except:\n",
    "        # Handling the \"Please contact\" or no DOM elem for the price\n",
    "        continue"
   ]
  },
  {
   "cell_type": "code",
   "execution_count": 50,
   "id": "28e42569",
   "metadata": {},
   "outputs": [],
   "source": [
    "def composeMessage(item):\n",
    "    return f\"{item.get('title')}%0A{item.get('ad_link')}%0A{item.get('ad_price')}\""
   ]
  },
  {
   "cell_type": "code",
   "execution_count": 61,
   "id": "50a0e54c",
   "metadata": {},
   "outputs": [],
   "source": [
    "def sendTelegramMessage(telegramSendMessageUrl, message):\n",
    "\n",
    "    with urllib.request.urlopen(telegramSendMessageUrl + f\"&text={message}\") as response:\n",
    "        \n",
    "        if response.getcode() == 200:\n",
    "            return True"
   ]
  },
  {
   "cell_type": "code",
   "execution_count": 62,
   "id": "03cbbf03",
   "metadata": {},
   "outputs": [],
   "source": [
    "def remove_non_ascii_1(text):\n",
    "    return ''.join(i for i in text if ord(i)<128)"
   ]
  },
  {
   "cell_type": "code",
   "execution_count": 63,
   "id": "1a045003",
   "metadata": {},
   "outputs": [
    {
     "name": "stdout",
     "output_type": "stream",
     "text": [
      "20 Telegram messages sent! 😃\n"
     ]
    }
   ],
   "source": [
    "successful_messages = 0\n",
    "\n",
    "for raw_message in selected_ads:\n",
    "\n",
    "    formatted_message = remove_non_ascii_1(composeMessage(raw_message))\n",
    "\n",
    "    if sendTelegramMessage(TELEGRAM_URL, formatted_message):\n",
    "        successful_messages += 1\n",
    "        \n",
    "print (f\"{successful_messages} Telegram messages sent! 😃\")"
   ]
  }
 ],
 "metadata": {
  "kernelspec": {
   "display_name": "Python 3.10.2 ('virtualEnv': venv)",
   "language": "python",
   "name": "python3"
  },
  "language_info": {
   "codemirror_mode": {
    "name": "ipython",
    "version": 3
   },
   "file_extension": ".py",
   "mimetype": "text/x-python",
   "name": "python",
   "nbconvert_exporter": "python",
   "pygments_lexer": "ipython3",
   "version": "3.10.2"
  },
  "vscode": {
   "interpreter": {
    "hash": "7d7a976045b4aaf46d63e410cfa83d432eea0a1cb7a0f5ec1cbb2a8cda9c1e14"
   }
  }
 },
 "nbformat": 4,
 "nbformat_minor": 5
}
